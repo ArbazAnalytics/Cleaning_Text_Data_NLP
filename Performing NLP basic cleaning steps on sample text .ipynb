{
 "cells": [
  {
   "cell_type": "markdown",
   "id": "40d6444d",
   "metadata": {},
   "source": [
    "# Performing NLP basic clenaing steps on sample text "
   ]
  },
  {
   "cell_type": "code",
   "execution_count": 88,
   "id": "0bc62fbb",
   "metadata": {},
   "outputs": [],
   "source": [
    "#SAMEPLE TEXT \n",
    "sample =\"         Jack and jill have made a delicious,       dish. Then they started to play some12 game! and jill attached the  # [a] photo frame to the straight9 wall and swung on a sea-saw. She was very happy. After the game, they both went to central London to enjoy some fast food. \""
   ]
  },
  {
   "cell_type": "code",
   "execution_count": null,
   "id": "c1bca0cf",
   "metadata": {},
   "outputs": [],
   "source": []
  },
  {
   "cell_type": "markdown",
   "id": "0c0bf0c3",
   "metadata": {},
   "source": [
    "### Q1 REMOVE PUNCTUATION & Numeric Digit"
   ]
  },
  {
   "cell_type": "code",
   "execution_count": 89,
   "id": "5efb79f6",
   "metadata": {},
   "outputs": [],
   "source": [
    "import re\n",
    "# Removing Punctuations in the string, using regex, RegEx is a sequence of characters that forms a search pattern. \n",
    "# RegEx can be used to check if a string contains the specified search pattern.\n",
    "# Remove punctuation and numeric digits using regex\n",
    "sentence_without_punctuation = re.sub(r'[^\\w\\s]|[\\d]', '', sample)"
   ]
  },
  {
   "cell_type": "code",
   "execution_count": 90,
   "id": "67248198",
   "metadata": {},
   "outputs": [
    {
     "name": "stdout",
     "output_type": "stream",
     "text": [
      "The string after punctuation filter :          Jack and jill have made a delicious       dish Then they started to play some game and jill attached the   a photo frame to the straight wall and swung on a seasaw She was very happy After the game they both went to central London to enjoy some fast food \n"
     ]
    }
   ],
   "source": [
    "#Result\n",
    "print(\"The string after punctuation filter : \" + sentence_without_punctuation)"
   ]
  },
  {
   "cell_type": "markdown",
   "id": "019940c5",
   "metadata": {},
   "source": [
    "### Q2. Tokenize Sentence "
   ]
  },
  {
   "cell_type": "code",
   "execution_count": 91,
   "id": "93cb520f",
   "metadata": {},
   "outputs": [
    {
     "name": "stdout",
     "output_type": "stream",
     "text": [
      "['         Jack and jill have made a delicious       dish Then they started to play some game and jill attached the   a photo frame to the straight wall and swung on a seasaw She was very happy After the game they both went to central London to enjoy some fast food']\n"
     ]
    }
   ],
   "source": [
    " import nltk   #NLTK, or Natural Language Toolkit, is a Python package that you can use for NLP\n",
    "nltk_sentence = nltk.sent_tokenize(sentence_without_punctuation)\n",
    "print (nltk_sentence)"
   ]
  },
  {
   "cell_type": "markdown",
   "id": "a26bac54",
   "metadata": {},
   "source": [
    "### Q3. Tokenize word"
   ]
  },
  {
   "cell_type": "code",
   "execution_count": 92,
   "id": "5b4d6025",
   "metadata": {},
   "outputs": [
    {
     "name": "stdout",
     "output_type": "stream",
     "text": [
      "['Jack', 'and', 'jill', 'have', 'made', 'a', 'delicious', 'dish', 'Then', 'they', 'started', 'to', 'play', 'some', 'game', 'and', 'jill', 'attached', 'the', 'a', 'photo', 'frame', 'to', 'the', 'straight', 'wall', 'and', 'swung', 'on', 'a', 'seasaw', 'She', 'was', 'very', 'happy', 'After', 'the', 'game', 'they', 'both', 'went', 'to', 'central', 'London', 'to', 'enjoy', 'some', 'fast', 'food']\n"
     ]
    }
   ],
   "source": [
    "nltk_tokens_word = nltk.word_tokenize(sentence_without_punctuation)\n",
    "print(nltk_tokens_word)"
   ]
  },
  {
   "cell_type": "markdown",
   "id": "88153669",
   "metadata": {},
   "source": [
    "### Q4. Remove stopwords"
   ]
  },
  {
   "cell_type": "code",
   "execution_count": 93,
   "id": "24ef1d17",
   "metadata": {},
   "outputs": [
    {
     "name": "stderr",
     "output_type": "stream",
     "text": [
      "[nltk_data] Downloading package stopwords to\n",
      "[nltk_data]     C:\\Users\\User\\AppData\\Roaming\\nltk_data...\n",
      "[nltk_data]   Package stopwords is already up-to-date!\n"
     ]
    },
    {
     "data": {
      "text/plain": [
       "['Jack',\n",
       " 'jill',\n",
       " 'made',\n",
       " 'delicious',\n",
       " 'dish',\n",
       " 'started',\n",
       " 'play',\n",
       " 'game',\n",
       " 'jill',\n",
       " 'attached',\n",
       " 'photo',\n",
       " 'frame',\n",
       " 'straight',\n",
       " 'wall',\n",
       " 'swung',\n",
       " 'seasaw',\n",
       " 'happy',\n",
       " 'game',\n",
       " 'went',\n",
       " 'central',\n",
       " 'London',\n",
       " 'enjoy',\n",
       " 'fast',\n",
       " 'food']"
      ]
     },
     "execution_count": 93,
     "metadata": {},
     "output_type": "execute_result"
    }
   ],
   "source": [
    "import nltk\n",
    "from nltk.corpus import stopwords\n",
    "\n",
    "nltk.download('stopwords')\n",
    "\n",
    "stop_words = set(stopwords.words('english'))  # Set of English stopwords\n",
    "\n",
    "# Remove stopwords from the tokens\n",
    "filtered_tokens = [nltk_tokens_word for nltk_tokens_word in nltk_tokens_word if nltk_tokens_word.lower() not in stop_words]\n",
    "\n",
    "filtered_tokens"
   ]
  },
  {
   "cell_type": "markdown",
   "id": "fa253fc7",
   "metadata": {},
   "source": [
    "### Q5 Lemmatize"
   ]
  },
  {
   "cell_type": "code",
   "execution_count": 94,
   "id": "debc6035",
   "metadata": {},
   "outputs": [
    {
     "name": "stdout",
     "output_type": "stream",
     "text": [
      "['Jack', 'jill', 'made', 'delicious', 'dish', 'started', 'play', 'game', 'jill', 'attached', 'photo', 'frame', 'straight', 'wall', 'swung', 'seasaw', 'happy', 'game', 'went', 'central', 'London', 'enjoy', 'fast', 'food']\n"
     ]
    }
   ],
   "source": [
    "from nltk.stem import WordNetLemmatizer\n",
    "\n",
    "lemmatizer = WordNetLemmatizer()\n",
    "\n",
    "lemmatized_list = [lemmatizer.lemmatize(word) for word in filtered_tokens]\n",
    "\n",
    "print(lemmatized_list)"
   ]
  },
  {
   "cell_type": "code",
   "execution_count": 99,
   "id": "8f657be7",
   "metadata": {},
   "outputs": [
    {
     "name": "stdout",
     "output_type": "stream",
     "text": [
      "Vocabulary:  {'jack': 10, 'jill': 11, 'made': 13, 'delicious': 2, 'dish': 3, 'started': 17, 'play': 15, 'game': 8, 'attached': 0, 'photo': 14, 'frame': 7, 'straight': 18, 'wall': 20, 'swung': 19, 'seasaw': 16, 'happy': 9, 'went': 21, 'central': 1, 'london': 12, 'enjoy': 4, 'fast': 5, 'food': 6}\n",
      "Encoded Document is:\n",
      "[[1 1 1 1 1 1 1 1 2 1 1 2 1 1 1 1 0 1 0 1 1 1]]\n"
     ]
    }
   ],
   "source": [
    "from sklearn.feature_extraction.text import CountVectorizer\n",
    " \n",
    "# Create a Vectorizer Object\n",
    "vectorizer = CountVectorizer()\n",
    " \n",
    "    \n",
    "vectorizer.fit(lemmatized_list)\n",
    "\n",
    " \n",
    "# Printing the identified Unique words along with their indices\n",
    "print(\"Vocabulary: \", vectorizer.vocabulary_)\n",
    " \n",
    "# Encode the Document\n",
    "vector = vectorizer.transform(document)\n",
    " \n",
    "# Summarizing the Encoded Texts\n",
    "print(\"Encoded Document is:\")\n",
    "print(vector.toarray())"
   ]
  }
 ],
 "metadata": {
  "kernelspec": {
   "display_name": "Python 3 (ipykernel)",
   "language": "python",
   "name": "python3"
  },
  "language_info": {
   "codemirror_mode": {
    "name": "ipython",
    "version": 3
   },
   "file_extension": ".py",
   "mimetype": "text/x-python",
   "name": "python",
   "nbconvert_exporter": "python",
   "pygments_lexer": "ipython3",
   "version": "3.9.12"
  }
 },
 "nbformat": 4,
 "nbformat_minor": 5
}
